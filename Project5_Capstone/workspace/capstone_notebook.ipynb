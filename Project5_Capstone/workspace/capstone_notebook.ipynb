{
 "cells": [
  {
   "cell_type": "markdown",
   "metadata": {
    "editable": true
   },
   "source": [
    "# Project Capstone - I94 Immigration Data\n",
    "## Data Engineering Capstone Project\n",
    "\n",
    "#### Project Summary\n",
    "This Project creates a Data Warehouse type of ETL pipeline to process, clean and store data related to US I94 Immigration data. Data can be used to analyse immigration flow to and from US through different airports.\n",
    "\n",
    "The project follows the follow steps:\n",
    "* Step 1: Scope the Project and Gather Data\n",
    "* Step 2: Explore and Assess the Data\n",
    "* Step 3: Define the Data Model\n",
    "* Step 4: Run ETL to Model the Data\n",
    "* Step 5: Complete Project Write Up"
   ]
  },
  {
   "cell_type": "code",
   "execution_count": 1,
   "metadata": {
    "editable": true
   },
   "outputs": [],
   "source": [
    "# Import necessary libraries\n",
    "import os, re\n",
    "import configparser\n",
    "import pandas as pd\n",
    "import psycopg2\n",
    "import datetime as dt\n",
    "import boto3\n",
    "from sql_queries import copy_table_queries, insert_table_queries, list_all_tables\n",
    "\n",
    "from IPython.display import Image\n",
    "from pyspark.sql import SparkSession, DataFrame\n",
    "from pyspark import SparkConf, SparkContext, SQLContext\n",
    "from pyspark.sql.types import StructField, StructType, IntegerType, DoubleType, DateType, StringType\n",
    "from pyspark.sql.functions import count, split, explode, udf, col, when, lower, isnull, year, month, dayofmonth, hour, weekofyear, dayofweek, date_format, to_date, datediff"
   ]
  },
  {
   "cell_type": "markdown",
   "metadata": {
    "editable": true
   },
   "source": [
    "## Step 1: Scope the Project and Gather Data\n",
    "\n",
    "### Scope \n",
    "We will create a Data Warehouse on AWS for other data scientists can analyze the data and find insights in it.\n",
    "\n",
    "### Describe and Gather Data \n",
    "In this project we use immigration data sets, demographic data sets, airport and the descriptions contained in the file I94_SAS_Labels_Descriptions.SAS."
   ]
  },
  {
   "cell_type": "code",
   "execution_count": 2,
   "metadata": {
    "editable": true
   },
   "outputs": [],
   "source": [
    "config = configparser.ConfigParser()\n",
    "config.read('dwh.cfg')\n",
    "os.environ['AWS_ACCESS_KEY_ID']=config['AWS']['key']\n",
    "os.environ['AWS_SECRET_ACCESS_KEY']=config['AWS']['secret']"
   ]
  },
  {
   "cell_type": "code",
   "execution_count": 3,
   "metadata": {
    "editable": true
   },
   "outputs": [],
   "source": [
    "spark = SparkSession.builder\\\n",
    "    .config(\"spark.jars.packages\",\"saurfang:spark-sas7bdat:2.0.0-s_2.11,org.apache.hadoop:hadoop-aws:2.7.0\")\\\n",
    "    .enableHiveSupport().getOrCreate()"
   ]
  },
  {
   "cell_type": "code",
   "execution_count": 4,
   "metadata": {
    "editable": true
   },
   "outputs": [
    {
     "data": {
      "text/plain": [
       "[Row(cicid=6.0, i94yr=2016.0, i94mon=4.0, i94cit=692.0, i94res=692.0, i94port='XXX', arrdate=20573.0, i94mode=None, i94addr=None, depdate=None, i94bir=37.0, i94visa=2.0, count=1.0, dtadfile=None, visapost=None, occup=None, entdepa='T', entdepd=None, entdepu='U', matflag=None, biryear=1979.0, dtaddto='10282016', gender=None, insnum=None, airline=None, admnum=1897628485.0, fltno=None, visatype='B2')]"
      ]
     },
     "execution_count": 4,
     "metadata": {},
     "output_type": "execute_result"
    }
   ],
   "source": [
    "# Load data immigration\n",
    "df_imigration_i94 =spark.read.format('com.github.saurfang.sas.spark').load('../../data/18-83510-I94-Data-2016/i94_apr16_sub.sas7bdat')\n",
    "df_imigration_i94.head(1)"
   ]
  },
  {
   "cell_type": "code",
   "execution_count": 5,
   "metadata": {
    "editable": true
   },
   "outputs": [
    {
     "data": {
      "text/plain": [
       "[Row(ident='00A', type='heliport', name='Total Rf Heliport', elevation_ft=11, continent='NA', iso_country='US', iso_region='US-PA', municipality='Bensalem', gps_code='00A', iata_code=None, local_code='00A', coordinates='-74.93360137939453, 40.07080078125')]"
      ]
     },
     "execution_count": 5,
     "metadata": {},
     "output_type": "execute_result"
    }
   ],
   "source": [
    "# Load data airport\n",
    "airport = spark.read.format('csv').options(header='true', inferSchema='true').load('airport-codes_csv.csv')\n",
    "airport.head(1)"
   ]
  },
  {
   "cell_type": "code",
   "execution_count": 6,
   "metadata": {
    "editable": true
   },
   "outputs": [],
   "source": [
    "# Define schema for demographics\n",
    "schema_demographics = StructType([\n",
    "    StructField('city', StringType()),\n",
    "    StructField('state', StringType()),\n",
    "    StructField('media_age', DoubleType()),\n",
    "    StructField('male_population', IntegerType()),\n",
    "    StructField('female_population', IntegerType()),\n",
    "    StructField('total_population', IntegerType()),\n",
    "    StructField('number_of_veterans', IntegerType()),\n",
    "    StructField('foreign_born', IntegerType()),\n",
    "    StructField('average_household_size', DoubleType()),\n",
    "    StructField('state_code', StringType()),\n",
    "    StructField('race', StringType()),\n",
    "    StructField('count', IntegerType())\n",
    "])"
   ]
  },
  {
   "cell_type": "code",
   "execution_count": 7,
   "metadata": {
    "editable": true
   },
   "outputs": [
    {
     "data": {
      "text/plain": [
       "[Row(city='Silver Spring', state='Maryland', media_age=33.8, male_population=40601, female_population=41862, total_population=82463, number_of_veterans=1562, foreign_born=30908, average_household_size=2.6, state_code='MD', race='Hispanic or Latino', count=25924)]"
      ]
     },
     "execution_count": 7,
     "metadata": {},
     "output_type": "execute_result"
    }
   ],
   "source": [
    "# Load data airport\n",
    "df_us_cities_demographics = spark.read.format('csv')\\\n",
    "                                .options(header='true', delimiter=';')\\\n",
    "                                .schema(schema_demographics)\\\n",
    "                                .load('us-cities-demographics.csv')\n",
    "df_us_cities_demographics.head(1)"
   ]
  },
  {
   "cell_type": "code",
   "execution_count": 8,
   "metadata": {
    "editable": true
   },
   "outputs": [
    {
     "data": {
      "text/plain": [
       "[Row(i94cit_res_id='582', country='MEXICO Air Sea, and Not Reported (I-94, no land arrivals)')]"
      ]
     },
     "execution_count": 8,
     "metadata": {},
     "output_type": "execute_result"
    }
   ],
   "source": [
    "# Load data i94cit_i94res\n",
    "i94cit_i94res = []\n",
    "with open('i94cit_i94res.txt') as f:\n",
    "    for line in f:\n",
    "        ln = re.split(r'=', line, maxsplit=1)\n",
    "        i94cit_i94res.append({'i94cit_res_id': ln[0].strip(), 'country': ln[1].strip()[1:-1]})\n",
    "\n",
    "df_i94cit_i94res = spark.sparkContext.parallelize(i94cit_i94res)\n",
    "df_i94cit_i94res = spark.read.json(df_i94cit_i94res)\n",
    "df_i94cit_i94res = df_i94cit_i94res.select(['i94cit_res_id', 'country'])\n",
    "df_i94cit_i94res.head(1)"
   ]
  },
  {
   "cell_type": "code",
   "execution_count": 9,
   "metadata": {
    "editable": true
   },
   "outputs": [
    {
     "data": {
      "text/plain": [
       "[Row(code='ALC', description='ALCAN, AK')]"
      ]
     },
     "execution_count": 9,
     "metadata": {},
     "output_type": "execute_result"
    }
   ],
   "source": [
    "# Load data i94port\n",
    "i94port = []\n",
    "with open('i94port.txt') as f:\n",
    "    for line in f:\n",
    "        ln = re.split(r'=', line, maxsplit=1)\n",
    "        i94port.append({'code': ln[0].strip()[1:-1], 'description': ln[1].strip()[1:-1].strip()})\n",
    "        \n",
    "df_i94port = spark.sparkContext.parallelize(i94port)\n",
    "df_i94port = spark.read.json(df_i94port)\n",
    "df_i94port.head(1)"
   ]
  },
  {
   "cell_type": "code",
   "execution_count": 10,
   "metadata": {
    "editable": true
   },
   "outputs": [
    {
     "data": {
      "text/plain": [
       "[Row(code='1', mode='Air')]"
      ]
     },
     "execution_count": 10,
     "metadata": {},
     "output_type": "execute_result"
    }
   ],
   "source": [
    "# Load data i94mode\n",
    "i94mode = []\n",
    "with open('i94mode.txt') as f:\n",
    "    for line in f:\n",
    "        ln = re.split(r'=', line, maxsplit=1)\n",
    "        i94mode.append({'code': ln[0].strip(), 'mode': ln[1].strip()[1:-1]})\n",
    "        \n",
    "df_i94mode = spark.sparkContext.parallelize(i94mode)\n",
    "df_i94mode = spark.read.json(df_i94mode)\n",
    "df_i94mode.head(1)"
   ]
  },
  {
   "cell_type": "code",
   "execution_count": 11,
   "metadata": {
    "editable": true
   },
   "outputs": [
    {
     "data": {
      "text/plain": [
       "[Row(i94addr_id='AL', state='ALABAMA')]"
      ]
     },
     "execution_count": 11,
     "metadata": {},
     "output_type": "execute_result"
    }
   ],
   "source": [
    "# Load data i94addr\n",
    "i94addr = []\n",
    "with open('i94addr.txt') as f:\n",
    "    for line in f:\n",
    "        ln = re.split(r'=', line, maxsplit=1)\n",
    "        i94addr.append({'i94addr_id': ln[0].strip()[1:-1], 'state': ln[1].strip()[1:-1].strip()})\n",
    "\n",
    "df_i94addr = spark.sparkContext.parallelize(i94addr)\n",
    "df_i94addr = spark.read.json(df_i94addr)\n",
    "df_i94addr.head(1)"
   ]
  },
  {
   "cell_type": "code",
   "execution_count": 12,
   "metadata": {
    "editable": true
   },
   "outputs": [
    {
     "data": {
      "text/plain": [
       "[Row(code='1', category='Business')]"
      ]
     },
     "execution_count": 12,
     "metadata": {},
     "output_type": "execute_result"
    }
   ],
   "source": [
    "# Load data i94visa\n",
    "i94visa = []\n",
    "with open('i94visa.txt') as f:\n",
    "    for line in f:\n",
    "        ln = re.split(r'=', line, maxsplit=1)\n",
    "        i94visa.append({'code': ln[0].strip(), 'category': ln[1].strip()})\n",
    "\n",
    "df_i94visa = spark.sparkContext.parallelize(i94visa)\n",
    "df_i94visa = spark.read.json(df_i94visa)\n",
    "df_i94visa = df_i94visa.select(['code', 'category'])\n",
    "df_i94visa.head(1)"
   ]
  },
  {
   "cell_type": "markdown",
   "metadata": {
    "editable": true
   },
   "source": [
    "## Step 2: Explore and Assess the Data\n",
    "\n",
    "### Immigration data\n",
    "\n",
    "I-94 is a small white paper form that a foreign visitor received from cabin crews on arrival flights and from US Customs upon entry into the United States. It contains information such as the traveler's immigration category, United States entry data, status expiration date, port of entry and unique identification number.\n",
    "\n",
    "### Airport Data\n",
    "\n",
    "The list with the airport code was provided, it is contained in airport-codes_csv.csv, in this file we have relevant data such as location, airport type, location and etc.\n",
    "\n",
    "### US city demographics\n",
    "\n",
    "Dataset contains demographic information for all US cities.\n",
    "\n",
    "### Explore the Data \n",
    "\n",
    "Identify missing values etc."
   ]
  },
  {
   "cell_type": "code",
   "execution_count": 13,
   "metadata": {
    "editable": true
   },
   "outputs": [
    {
     "name": "stdout",
     "output_type": "stream",
     "text": [
      "+-----+-----+------+------+------+-------+-------+-------+-------+-------+------+-------+-----+--------+--------+-------+-------+-------+-------+-------+-------+-------+------+-------+-------+------+-----+--------+\n",
      "|cicid|i94yr|i94mon|i94cit|i94res|i94port|arrdate|i94mode|i94addr|depdate|i94bir|i94visa|count|dtadfile|visapost|  occup|entdepa|entdepd|entdepu|matflag|biryear|dtaddto|gender| insnum|airline|admnum|fltno|visatype|\n",
      "+-----+-----+------+------+------+-------+-------+-------+-------+-------+------+-------+-----+--------+--------+-------+-------+-------+-------+-------+-------+-------+------+-------+-------+------+-----+--------+\n",
      "|    0|    0|     0|     0|     0|      0|      0|    239| 152592| 142457|   802|      0|    0|       1| 1881250|3088187|    238| 138429|3095921| 138429|    802|    477|414269|2982605|  83627|     0|19549|       0|\n",
      "+-----+-----+------+------+------+-------+-------+-------+-------+-------+------+-------+-----+--------+--------+-------+-------+-------+-------+-------+-------+-------+------+-------+-------+------+-----+--------+\n",
      "\n"
     ]
    }
   ],
   "source": [
    "# Missing values df_imigration_i94\n",
    "df_imigration_i94.select([count(when(col(c).isNull(), c)).alias(c) for c in df_imigration_i94.columns]).show()"
   ]
  },
  {
   "cell_type": "code",
   "execution_count": 14,
   "metadata": {
    "editable": true
   },
   "outputs": [
    {
     "name": "stdout",
     "output_type": "stream",
     "text": [
      "+-----+----+----+------------+---------+-----------+----------+------------+--------+---------+----------+-----------+\n",
      "|ident|type|name|elevation_ft|continent|iso_country|iso_region|municipality|gps_code|iata_code|local_code|coordinates|\n",
      "+-----+----+----+------------+---------+-----------+----------+------------+--------+---------+----------+-----------+\n",
      "|    0|   0|   0|        7006|        0|          0|         0|        5676|   14045|    45886|     26389|          0|\n",
      "+-----+----+----+------------+---------+-----------+----------+------------+--------+---------+----------+-----------+\n",
      "\n"
     ]
    }
   ],
   "source": [
    "# Missing values airport\n",
    "airport.select([count(when(col(c).isNull(), c)).alias(c) for c in airport.columns]).show()"
   ]
  },
  {
   "cell_type": "code",
   "execution_count": 15,
   "metadata": {
    "editable": true
   },
   "outputs": [
    {
     "name": "stdout",
     "output_type": "stream",
     "text": [
      "+----+-----+---------+---------------+-----------------+----------------+------------------+------------+----------------------+----------+----+-----+\n",
      "|city|state|media_age|male_population|female_population|total_population|number_of_veterans|foreign_born|average_household_size|state_code|race|count|\n",
      "+----+-----+---------+---------------+-----------------+----------------+------------------+------------+----------------------+----------+----+-----+\n",
      "|   0|    0|        0|              3|                3|               0|                13|          13|                    16|         0|   0|    0|\n",
      "+----+-----+---------+---------------+-----------------+----------------+------------------+------------+----------------------+----------+----+-----+\n",
      "\n"
     ]
    }
   ],
   "source": [
    "# Missing values df_us_cities_demographics\n",
    "df_us_cities_demographics.select([count(when(col(c).isNull(), c)).alias(c) for c in df_us_cities_demographics.columns]).show()"
   ]
  },
  {
   "cell_type": "code",
   "execution_count": 16,
   "metadata": {
    "editable": true
   },
   "outputs": [
    {
     "name": "stdout",
     "output_type": "stream",
     "text": [
      "+-------------+-------+\n",
      "|i94cit_res_id|country|\n",
      "+-------------+-------+\n",
      "|            0|      0|\n",
      "+-------------+-------+\n",
      "\n"
     ]
    }
   ],
   "source": [
    "# Missing values df_i94cit_i94res\n",
    "df_i94cit_i94res.select([count(when(col(c).isNull(), c)).alias(c) for c in df_i94cit_i94res.columns]).show()"
   ]
  },
  {
   "cell_type": "code",
   "execution_count": 17,
   "metadata": {
    "editable": true
   },
   "outputs": [
    {
     "name": "stdout",
     "output_type": "stream",
     "text": [
      "+----+-----------+\n",
      "|code|description|\n",
      "+----+-----------+\n",
      "|   0|          0|\n",
      "+----+-----------+\n",
      "\n"
     ]
    }
   ],
   "source": [
    "# Missing values df_i94port\n",
    "df_i94port.select([count(when(col(c).isNull(), c)).alias(c) for c in df_i94port.columns]).show()"
   ]
  },
  {
   "cell_type": "code",
   "execution_count": 18,
   "metadata": {
    "editable": true
   },
   "outputs": [
    {
     "name": "stdout",
     "output_type": "stream",
     "text": [
      "+----+----+\n",
      "|code|mode|\n",
      "+----+----+\n",
      "|   0|   0|\n",
      "+----+----+\n",
      "\n"
     ]
    }
   ],
   "source": [
    "# Missing values df_i94mode\n",
    "df_i94mode.select([count(when(col(c).isNull(), c)).alias(c) for c in df_i94mode.columns]).show()"
   ]
  },
  {
   "cell_type": "code",
   "execution_count": 19,
   "metadata": {
    "editable": true
   },
   "outputs": [
    {
     "name": "stdout",
     "output_type": "stream",
     "text": [
      "+----------+-----+\n",
      "|i94addr_id|state|\n",
      "+----------+-----+\n",
      "|         0|    0|\n",
      "+----------+-----+\n",
      "\n"
     ]
    }
   ],
   "source": [
    "# Missing values df_i94addr\n",
    "df_i94addr.select([count(when(col(c).isNull(), c)).alias(c) for c in df_i94addr.columns]).show()"
   ]
  },
  {
   "cell_type": "code",
   "execution_count": 20,
   "metadata": {
    "editable": true
   },
   "outputs": [
    {
     "name": "stdout",
     "output_type": "stream",
     "text": [
      "+----+--------+\n",
      "|code|category|\n",
      "+----+--------+\n",
      "|   0|       0|\n",
      "+----+--------+\n",
      "\n"
     ]
    }
   ],
   "source": [
    "# Missing values df_i94visa\n",
    "df_i94visa.select([count(when(col(c).isNull(), c)).alias(c) for c in df_i94visa.columns]).show()"
   ]
  },
  {
   "cell_type": "markdown",
   "metadata": {
    "editable": true
   },
   "source": [
    "### Cleaning Steps\n",
    "\n",
    "Document steps necessary to clean the data: drop/clean Null, wrong datatype, ..."
   ]
  },
  {
   "cell_type": "code",
   "execution_count": 21,
   "metadata": {
    "editable": true
   },
   "outputs": [],
   "source": [
    "# Clean tasks airport\n",
    "airport = airport.withColumn('latitude', split(col('coordinates'), ',')[1])\n",
    "airport = airport.withColumn('longitude', split(col('coordinates'), ',')[0])\n",
    "airport = airport.withColumn('state', split(col('iso_region'), '-')[1])\n",
    "\n",
    "# Filter airport by country\n",
    "airport.filter(airport['iso_country'] == 'US')\n",
    "\n",
    "# Filter by local code is not null\n",
    "airport = airport.filter(airport['local_code'].isNotNull())\n",
    "\n",
    "# Drop columns\n",
    "airport = airport.drop('iso_region').drop('coordinates').drop('elevation_ft').drop('municipality').drop('gps_code').drop('iata_code')"
   ]
  },
  {
   "cell_type": "code",
   "execution_count": 22,
   "metadata": {
    "editable": true
   },
   "outputs": [],
   "source": [
    "# Clean tasks cities \n",
    "df_us_cities_demographics = df_us_cities_demographics.where(col('state').isNotNull()).dropDuplicates(['state', 'city', 'race'])\n",
    "\n",
    "# Columns for groupby\n",
    "us_columns_groupby = ['city', 'state', 'state_code']\n",
    "\n",
    "# Create object for agg\n",
    "_agg = {\n",
    "    'media_age': 'first',\n",
    "    'male_population': 'first',\n",
    "    'female_population': 'first',\n",
    "    'total_population': 'first',\n",
    "    'number_of_veterans': 'first',\n",
    "    'foreign_born': 'first',\n",
    "    'average_household_size': 'first'\n",
    "}\n",
    "\n",
    "# First groupby\n",
    "df_us_agg = df_us_cities_demographics.groupby(us_columns_groupby).agg(_agg)\n",
    "\n",
    "# Pivot transform values of the column race to columns\n",
    "df_us_pv = df_us_cities_demographics.groupby(us_columns_groupby).pivot('race').sum('count')\n",
    "\n",
    "# Join df_us_agg with df_us_pv\n",
    "df_us_cities_demographics = df_us_agg.join(other=df_us_pv, on=us_columns_groupby, how='inner')\n",
    "\n",
    "# Rename columns\n",
    "df_us_cities_demographics = df_us_cities_demographics.withColumnRenamed('first(foreign_born)', 'foreign_born')\\\n",
    "    .withColumnRenamed('first(male_population)', 'male_population')\\\n",
    "    .withColumnRenamed('first(average_household_size)', 'average_household_size')\\\n",
    "    .withColumnRenamed('first(total_population)', 'total_population')\\\n",
    "    .withColumnRenamed('first(female_population)', 'female_population')\\\n",
    "    .withColumnRenamed('first(media_age)', 'media_age')\\\n",
    "    .withColumnRenamed('first(number_of_veterans)', 'number_of_veterans')\\\n",
    "    .withColumnRenamed('American Indian and Alaska Native', 'american_indian_and_alaska_native')\\\n",
    "    .withColumnRenamed('Asian', 'asian')\\\n",
    "    .withColumnRenamed('Black or African-American', 'black_or_african_american')\\\n",
    "    .withColumnRenamed('Hispanic or Latino', 'hispanic_or_latino')\\\n",
    "    .withColumnRenamed('White', 'white')\n",
    "\n",
    "# List of columns int\n",
    "us_cities_demographics_columns_int = ['foreign_born', 'male_population', 'average_household_size', \\\n",
    "                                      'female_population', 'number_of_veterans', \\\n",
    "                                      'american_indian_and_alaska_native', 'asian', 'black_or_african_american', 'white']\n",
    "df_us_cities_demographics = df_us_cities_demographics.na.fill(0, subset=us_cities_demographics_columns_int)"
   ]
  },
  {
   "cell_type": "code",
   "execution_count": 23,
   "metadata": {
    "editable": true
   },
   "outputs": [],
   "source": [
    "# Clean tasks cities immigration\n",
    "\n",
    "# Complete with zero(0) columns null\n",
    "immigration_columns_int = ['cicid','i94yr','i94mon','i94cit','i94res','arrdate','i94bir','count','i94visa','dtadfile','biryear','depdate']\n",
    "df_imigration_i94 = df_imigration_i94.na.fill(0, subset=immigration_columns_int)\n",
    "\n",
    "# Function for cast column\n",
    "def cast_column(df, list_columns, type_column):\n",
    "    for column in list_columns:\n",
    "        df = df.withColumn(column, df[column].cast(type_column))\n",
    "    return df\n",
    "\n",
    "# Cast column for integer\n",
    "df_imigration_i94 = cast_column(df_imigration_i94, immigration_columns_int, IntegerType())\n",
    "\n",
    "# variable content format date\n",
    "format_date = '%Y-%m-%d'\n",
    "\n",
    "# Function parse date\n",
    "def days_to_datetime(nrDays):\n",
    "    try:\n",
    "        if (nrDays == 0 or nrDays == None):\n",
    "            return dt.datetime(1960, 1, 1).date()\n",
    "        else:\n",
    "            return dt.datetime(1960, 1, 1).date() + dt.timedelta(days=nrDays)\n",
    "    except:\n",
    "        return None\n",
    "    \n",
    "# Define udf lambda for parse date\n",
    "udf_days_to_datetime = udf(lambda nrDays: days_to_datetime(nrDays), DateType())\n",
    "\n",
    "# Convert column to date YYYY-MM-DD\n",
    "df_imigration_i94 = df_imigration_i94.withColumn('arrdate', udf_days_to_datetime(df_imigration_i94.arrdate))\n",
    "df_imigration_i94 = df_imigration_i94.withColumn('depdate', udf_days_to_datetime(df_imigration_i94.depdate))\n",
    "\n",
    "# Function get day diff date\n",
    "def diff_date(dt1, dt2):\n",
    "    if dt1 is None or dt2 == dt.datetime(1960, 1, 1).date():\n",
    "        return 0\n",
    "    else:\n",
    "        diff = dt2 - dt1\n",
    "        return int(diff.days)\n",
    "\n",
    "# Define udf lambda get days diff\n",
    "diff_date_udf = udf(diff_date)\n",
    "\n",
    "# Get days stay\n",
    "df_imigration_i94 = df_imigration_i94.withColumn('days_stay', diff_date_udf(df_imigration_i94.arrdate, df_imigration_i94.depdate))\n",
    "\n",
    "# Cast column for integer\n",
    "df_imigration_i94 = cast_column(df_imigration_i94, ['days_stay'], IntegerType())\n",
    "\n",
    "# Update i94mode of value not reported\n",
    "df_imigration_i94 = df_imigration_i94.na.fill(9, subset=['i94mode'])\n",
    "\n",
    "# Update i94addr when value is null, set 99\n",
    "df_imigration_i94 = df_imigration_i94.na.fill('99', subset=['i94addr'])\n",
    "\n",
    "# Update fltno when value is null, set 0\n",
    "df_imigration_i94 = df_imigration_i94.na.fill('0', subset=['fltno'])\n",
    "\n",
    "# Update airline, insnum, gender, matflag when value is null, set None\n",
    "df_imigration_i94 = df_imigration_i94.na.fill('None', subset=['airline', 'insnum', 'gender', 'matflag'])\n",
    "\n",
    "# Cast for column i94mode\n",
    "df_imigration_i94 = cast_column(df_imigration_i94, ['i94mode'], IntegerType())\n",
    "\n",
    "# Columns to drop\n",
    "columns_to_drop = ['dtadfile', 'visapost', 'occup', 'entdepa', 'entdepd', 'entdepu', 'dtaddto']  \n",
    "df_imigration_i94 = df_imigration_i94.drop(*columns_to_drop)"
   ]
  },
  {
   "cell_type": "code",
   "execution_count": 24,
   "metadata": {
    "editable": true
   },
   "outputs": [],
   "source": [
    "# Cleaning tasks i94port\n",
    "df_i94port = df_i94port.withColumn('city', split(col('description'), ',')[0])\n",
    "df_i94port = df_i94port.withColumn('state', split(col('description'), ',')[1])\n",
    "df_i94port = df_i94port.drop('description')\n",
    "df_i94port = df_i94port.filter(col('state').isNotNull())"
   ]
  },
  {
   "attachments": {
    "model.png": {
     "image/png": "[encoded data removed]"
    }
   },
   "cell_type": "markdown",
   "metadata": {
    "editable": true
   },
   "source": [
    "## Step 3: Define the Data Model\n",
    "\n",
    "### 3.1 Concept Data Model\n",
    "\n",
    "Map out the conceptual data model and explain reason to chose that model![model.png](attachment:model.png)"
   ]
  },
  {
   "cell_type": "markdown",
   "metadata": {
    "editable": true
   },
   "source": [
    "### 3.2 Mapping Out Data Pipelines\n",
    "\n",
    "List the steps to pipeline the data into the chosen data model\n",
    "\n",
    "#### Airport data\n",
    "\n",
    "For the airport data set:\n",
    "\n",
    "- Create a latitude and longitude columns to store the coordinates of the airports.\n",
    "- Only filter airports in the United States that were not missing code in the `local_code` column\n",
    "- Remove the `iso_region`, `coordinates`, `elevation_ft`, `municipality`, `gps_code` and `iata_code` columns\n",
    "\n",
    "\n",
    "#### US city demographics data\n",
    "\n",
    "For the airport data set:\n",
    "\n",
    "- Remove duplicate values through the columns `state`, `city` and `race`\n",
    "- Create columns with the values contained in the `race` column using the pivot feature\n",
    "- Complete with zero (0), missing values in the `foreign_born`, `male_population`, `average_household_size`, `female_population`, `number_of_veterans`, `american_indian_and_alaska_native`, `asian`, `black_or_african_american` and `white`\n",
    "\n",
    "\n",
    "#### Immigration data\n",
    "\n",
    "For the immigration data set:\n",
    "\n",
    "- Complete with zero (0), missing values in the `cicid`, `i94yr`, `i94mon`, `i94cit`, `i94res`, `arrdate`, `i94bir`, `count`, `i94visa`, `dtadfile`, `birdyear` and `depdate`\n",
    "- Create `cast_column` function to cast the required columns\n",
    "- Create `days_to_datetime` function to parse data \n",
    "- Create `diff_date` function to calculate the number of days between the dates contained in the `arrdate` and `depdate` columns. \n",
    "- Create a `days_stay` column in this data set to receive the number of days calculated in the `diff_date` function\n",
    "- Complete missing values in the `i94mode` column\n",
    "- Complete missing values in column `i94addr`\n",
    "- Complete missing values in the `fltno` column\n",
    "- Complete missing values in the `airline`, `insnum`, `gender` and `matflag` columns\n",
    "- Cast the column `i94mode`\n",
    "- Remove the columns `dtadfile`, `visapost`, `occup`, `entdepa`, `entdepd`, `entdepu` and `dtaddto`\n",
    "\n",
    "\n",
    "#### I94port data\n",
    "\n",
    "For the data set of i94port:\n",
    "\n",
    "- Separate states and city into separate columns"
   ]
  },
  {
   "cell_type": "markdown",
   "metadata": {
    "editable": true
   },
   "source": [
    "## Step 4: Run Pipelines to Model the Data "
   ]
  },
  {
   "cell_type": "markdown",
   "metadata": {
    "editable": true
   },
   "source": [
    "### 4.1 Create bucket in S3"
   ]
  },
  {
   "cell_type": "code",
   "execution_count": 26,
   "metadata": {
    "editable": true
   },
   "outputs": [
    {
     "name": "stdout",
     "output_type": "stream",
     "text": [
      "The bucket does not exist\n",
      "The bucket data-engineer-capstone created !\n"
     ]
    }
   ],
   "source": [
    "def create_bucket(config, boto3, bucket_name):\n",
    "    s3 = boto3.client('s3',\n",
    "                      region_name=config['AWS']['REGION'],\n",
    "                      aws_access_key_id=config['AWS']['KEY'],\n",
    "                      aws_secret_access_key=config['AWS']['SECRET'])\n",
    "    try:\n",
    "        s3.create_bucket(Bucket=bucket_name)\n",
    "        print(\"The bucket {} created !\".format(bucket_name))\n",
    "    except e:\n",
    "        print(\"Error: can't create bucket\")\n",
    "        \n",
    "if boto3.resource('s3').Bucket(config[\"S3\"][\"bucket_name\"]).creation_date:\n",
    "    print(\"The bucket exists !\")\n",
    "else:\n",
    "    print(\"The bucket does not exist\")\n",
    "    create_bucket(config, boto3, config[\"S3\"][\"bucket_name\"])\n"
   ]
  },
  {
   "cell_type": "markdown",
   "metadata": {
    "editable": true
   },
   "source": [
    "### 4.2 Create parquet file in S3"
   ]
  },
  {
   "cell_type": "code",
   "execution_count": 27,
   "metadata": {
    "editable": true
   },
   "outputs": [
    {
     "name": "stdout",
     "output_type": "stream",
     "text": [
      "Start creating parquet files\n",
      "Path for parquet files: s3a://data-engineer-capstone/input-data/\n",
      "Creating i94visa.parquet\n",
      "Creating i94port.parquet\n",
      "Creating i94mode.parquet\n",
      "Creating i94cit_i94res.parquet\n",
      "Creating i94addr.parquet\n",
      "Creating airport.parquet\n",
      "Creating cities_demographics.parquet\n",
      "Creating immigration.parquet\n",
      "Finish creating parquet files\n"
     ]
    }
   ],
   "source": [
    "print('Start creating parquet files')\n",
    "\n",
    "# create path for bucket\n",
    "path_bucket = \"s3a://{}/{}/\".format(config[\"S3\"][\"bucket_name\"], config[\"S3\"][\"path_input_data\"])\n",
    "print('Path for parquet files: {}'.format(path_bucket))\n",
    "\n",
    "#write to parquet i94visa\n",
    "print('Creating i94visa.parquet')\n",
    "df_i94visa.write.parquet(os.path.join(path_bucket, 'i94visa.parquet'), mode='overwrite')\n",
    "\n",
    "#write to parquet i94port\n",
    "print('Creating i94port.parquet')\n",
    "df_i94port.write.parquet(os.path.join(path_bucket, 'i94port.parquet'), mode='overwrite')\n",
    "\n",
    "#write to parquet i94mode\n",
    "print('Creating i94mode.parquet')\n",
    "df_i94mode.write.parquet(os.path.join(path_bucket, 'i94mode.parquet'), mode='overwrite')\n",
    "\n",
    "#write to parquet i94cit_i94res\n",
    "print('Creating i94cit_i94res.parquet')\n",
    "df_i94cit_i94res.write.parquet(os.path.join(path_bucket, 'i94cit_i94res.parquet'), mode='overwrite')\n",
    "\n",
    "#write to parquet i94addr\n",
    "print('Creating i94addr.parquet')\n",
    "df_i94addr.write.parquet(os.path.join(path_bucket, \"i94addr.parquet\"), mode='overwrite')\n",
    "\n",
    "#write to parquet airport\n",
    "print('Creating airport.parquet')\n",
    "airport.repartition(1).write.parquet(os.path.join(path_bucket, 'airport.parquet'), mode='overwrite')\n",
    "\n",
    "#write to parquet cities demographics\n",
    "print('Creating cities_demographics.parquet')\n",
    "df_us_cities_demographics.repartition(1).write.parquet(os.path.join(path_bucket, 'cities_demographics.parquet'), mode='overwrite')\n",
    "\n",
    "#write to parquet immigration\n",
    "print('Creating immigration.parquet')\n",
    "df_imigration_i94.repartition(1).write.parquet(os.path.join(path_bucket, 'immigration.parquet'), mode='overwrite')\n",
    "\n",
    "print('Finish creating parquet files')"
   ]
  },
  {
   "cell_type": "markdown",
   "metadata": {
    "editable": true
   },
   "source": [
    "### 4.3 Create Redshift"
   ]
  },
  {
   "cell_type": "code",
   "execution_count": 28,
   "metadata": {
    "editable": true
   },
   "outputs": [
    {
     "name": "stdout",
     "output_type": "stream",
     "text": [
      "## Creating a Client\n",
      "print aws region us-west-2\n",
      "## Creating a new IAM Role\n",
      "## Attaching Policy\n",
      "## Get the IAM role ARN\n",
      "## Create Redshift Cluster\n",
      "Wait, we are checking the status of your capstone Cluster\n",
      "Status cluster is: creating\n",
      "Status cluster is: creating\n",
      "Status cluster is: creating\n",
      "Status cluster is: creating\n",
      "Status cluster is: creating\n",
      "Status cluster is: creating\n",
      "Status cluster is: creating\n",
      "Status cluster is: creating\n",
      "Status cluster is: creating\n",
      "Status cluster is: creating\n",
      "Status cluster is: creating\n",
      "Status cluster is: creating\n",
      "Status cluster is: creating\n",
      "Status cluster is: creating\n",
      "Status cluster is: available\n",
      "Redshift cluster capstoneCluster created.\n",
      "                 Key                                                                                       Value\n",
      "0  ClusterIdentifier  capstonecluster                                                                           \n",
      "1  NodeType           dc2.large                                                                                 \n",
      "2  ClusterStatus      available                                                                                 \n",
      "3  MasterUsername     capstoneuser                                                                              \n",
      "4  DBName             capstone                                                                                  \n",
      "5  Endpoint           {'Address': 'capstonecluster.c37ndc32tsj0.us-west-2.redshift.amazonaws.com', 'Port': 5439}\n",
      "6  VpcId              vpc-bd8680c7                                                                              \n",
      "7  NumberOfNodes      4                                                                                         \n",
      "DWH_ENDPOINT :: capstonecluster.c37ndc32tsj0.us-west-2.redshift.amazonaws.com\n",
      "DWH_ROLE_ARN :: arn:aws:iam::545604224395:role/capstoneRole\n"
     ]
    }
   ],
   "source": [
    "!python create_redshift.py"
   ]
  },
  {
   "cell_type": "markdown",
   "metadata": {
    "editable": true
   },
   "source": [
    "### 4.4 Create tables"
   ]
  },
  {
   "cell_type": "code",
   "execution_count": 29,
   "metadata": {
    "editable": true
   },
   "outputs": [],
   "source": [
    "!python create_tables.py"
   ]
  },
  {
   "cell_type": "markdown",
   "metadata": {
    "editable": true
   },
   "source": [
    "### 4.5 Load data in tables on Redshift"
   ]
  },
  {
   "cell_type": "code",
   "execution_count": 30,
   "metadata": {
    "editable": true
   },
   "outputs": [],
   "source": [
    "def load_staging_tables(cur, conn):\n",
    "    for query in copy_table_queries:\n",
    "        cur.execute(query)\n",
    "        conn.commit()\n",
    "        \n",
    "def insert_tables(cur, conn):\n",
    "    for query in insert_table_queries:\n",
    "        cur.execute(query)\n",
    "        conn.commit()\n",
    "        \n",
    "def load_and_insert_data_tables():\n",
    "    config = configparser.ConfigParser()\n",
    "    config.read('dwh.cfg')\n",
    "\n",
    "    conn = psycopg2.connect(\"host={} dbname={} user={} password={} port={}\".format(*config['CLUSTER'].values()))\n",
    "    cur = conn.cursor()\n",
    "    \n",
    "    load_staging_tables(cur, conn)\n",
    "    insert_tables(cur, conn)\n",
    "\n",
    "    conn.close()"
   ]
  },
  {
   "cell_type": "code",
   "execution_count": 31,
   "metadata": {
    "editable": true
   },
   "outputs": [],
   "source": [
    "load_and_insert_data_tables()"
   ]
  },
  {
   "cell_type": "markdown",
   "metadata": {
    "editable": true
   },
   "source": [
    "### 4.6 Data Quality Checks\n",
    "\n",
    "Explain the data quality checks you'll perform to ensure the pipeline ran as expected. These could include:\n",
    " * Integrity constraints on the relational database (e.g., unique key, data type, etc.)\n",
    " * Unit tests for the scripts to ensure they are doing the right thing\n",
    " * Source/Count checks to ensure completeness"
   ]
  },
  {
   "cell_type": "code",
   "execution_count": 32,
   "metadata": {
    "editable": true
   },
   "outputs": [],
   "source": [
    "# Perform quality checks here\n",
    "def data_quality(config):\n",
    "    conn = psycopg2.connect(\"host={} dbname={} user={} password={} port={}\".format(*config['CLUSTER'].values()))\n",
    "    cur = conn.cursor()\n",
    "    \n",
    "    for table in list_all_tables:\n",
    "        query = 'SELECT COUNT(*) FROM {}.{}'.format(config[\"DWH\"][\"dwh_db_schema\"], table)\n",
    "        cur.execute(query)\n",
    "        result = cur.fetchone()\n",
    "        print('Quality check table {} returned {} results.'.format(table, result[0]))\n",
    "        conn.commit()\n",
    "        \n",
    "    conn.close()"
   ]
  },
  {
   "cell_type": "code",
   "execution_count": 33,
   "metadata": {
    "editable": true
   },
   "outputs": [
    {
     "name": "stdout",
     "output_type": "stream",
     "text": [
      "Quality check table us_cities_demographics returned 596 results.\n",
      "Quality check table immigrations returned 3096313 results.\n",
      "Quality check table airports returned 28686 results.\n",
      "Quality check table i94visas returned 3 results.\n",
      "Quality check table i94ports returned 583 results.\n",
      "Quality check table i94modes returned 4 results.\n",
      "Quality check table i94cit_res returned 289 results.\n",
      "Quality check table i94addrs returned 55 results.\n"
     ]
    }
   ],
   "source": [
    "data_quality(config)"
   ]
  },
  {
   "cell_type": "markdown",
   "metadata": {
    "editable": true
   },
   "source": [
    "### 4.7 Data dictionary \n",
    "Create a data dictionary for your data model. For each field, provide a brief description of what the data is and where it came from. You can include the data dictionary in the notebook or in a separate file."
   ]
  },
  {
   "cell_type": "markdown",
   "metadata": {
    "editable": true
   },
   "source": [
    "#### Table Fact 'immigrations'"
   ]
  },
  {
   "cell_type": "code",
   "execution_count": 34,
   "metadata": {
    "editable": true
   },
   "outputs": [
    {
     "data": {
      "text/html": [
       "<style  type=\"text/css\" >\n",
       "</style>  \n",
       "<table id=\"T_b5a993de_98f9_11ea_baa8_0242ac120002\" > \n",
       "<thead>    <tr> \n",
       "        <th class=\"col_heading level0 col0\" >COLUMN NAME</th> \n",
       "        <th class=\"col_heading level0 col1\" >DESCRIPTION</th> \n",
       "    </tr></thead> \n",
       "<tbody>    <tr> \n",
       "        <td id=\"T_b5a993de_98f9_11ea_baa8_0242ac120002row0_col0\" class=\"data row0 col0\" >cicid</td> \n",
       "        <td id=\"T_b5a993de_98f9_11ea_baa8_0242ac120002row0_col1\" class=\"data row0 col1\" >Uniquely identify one record in the dataset</td> \n",
       "    </tr>    <tr> \n",
       "        <td id=\"T_b5a993de_98f9_11ea_baa8_0242ac120002row1_col0\" class=\"data row1 col0\" >i94yr</td> \n",
       "        <td id=\"T_b5a993de_98f9_11ea_baa8_0242ac120002row1_col1\" class=\"data row1 col1\" >4 digit year</td> \n",
       "    </tr>    <tr> \n",
       "        <td id=\"T_b5a993de_98f9_11ea_baa8_0242ac120002row2_col0\" class=\"data row2 col0\" >i94mon</td> \n",
       "        <td id=\"T_b5a993de_98f9_11ea_baa8_0242ac120002row2_col1\" class=\"data row2 col1\" >Numeric month</td> \n",
       "    </tr>    <tr> \n",
       "        <td id=\"T_b5a993de_98f9_11ea_baa8_0242ac120002row3_col0\" class=\"data row3 col0\" >i94cit</td> \n",
       "        <td id=\"T_b5a993de_98f9_11ea_baa8_0242ac120002row3_col1\" class=\"data row3 col1\" >3 digit code of source city for immigration - born country</td> \n",
       "    </tr>    <tr> \n",
       "        <td id=\"T_b5a993de_98f9_11ea_baa8_0242ac120002row4_col0\" class=\"data row4 col0\" >i94res</td> \n",
       "        <td id=\"T_b5a993de_98f9_11ea_baa8_0242ac120002row4_col1\" class=\"data row4 col1\" >3 digit code of source country for immigration - residence country</td> \n",
       "    </tr>    <tr> \n",
       "        <td id=\"T_b5a993de_98f9_11ea_baa8_0242ac120002row5_col0\" class=\"data row5 col0\" >i94port</td> \n",
       "        <td id=\"T_b5a993de_98f9_11ea_baa8_0242ac120002row5_col1\" class=\"data row5 col1\" >Port addmitted through</td> \n",
       "    </tr>    <tr> \n",
       "        <td id=\"T_b5a993de_98f9_11ea_baa8_0242ac120002row6_col0\" class=\"data row6 col0\" >arrdate</td> \n",
       "        <td id=\"T_b5a993de_98f9_11ea_baa8_0242ac120002row6_col1\" class=\"data row6 col1\" >Arrival date in the USA</td> \n",
       "    </tr>    <tr> \n",
       "        <td id=\"T_b5a993de_98f9_11ea_baa8_0242ac120002row7_col0\" class=\"data row7 col0\" >i94mode</td> \n",
       "        <td id=\"T_b5a993de_98f9_11ea_baa8_0242ac120002row7_col1\" class=\"data row7 col1\" >Mode of transportation {1 = Air, 2 = Sea, 3 = Land, 9 = \"Not reported\"}</td> \n",
       "    </tr>    <tr> \n",
       "        <td id=\"T_b5a993de_98f9_11ea_baa8_0242ac120002row8_col0\" class=\"data row8 col0\" >i94addr</td> \n",
       "        <td id=\"T_b5a993de_98f9_11ea_baa8_0242ac120002row8_col1\" class=\"data row8 col1\" >State of arrival</td> \n",
       "    </tr>    <tr> \n",
       "        <td id=\"T_b5a993de_98f9_11ea_baa8_0242ac120002row9_col0\" class=\"data row9 col0\" >depdate</td> \n",
       "        <td id=\"T_b5a993de_98f9_11ea_baa8_0242ac120002row9_col1\" class=\"data row9 col1\" >Departure date</td> \n",
       "    </tr>    <tr> \n",
       "        <td id=\"T_b5a993de_98f9_11ea_baa8_0242ac120002row10_col0\" class=\"data row10 col0\" >i94bir</td> \n",
       "        <td id=\"T_b5a993de_98f9_11ea_baa8_0242ac120002row10_col1\" class=\"data row10 col1\" >Age of Respondent in Years</td> \n",
       "    </tr>    <tr> \n",
       "        <td id=\"T_b5a993de_98f9_11ea_baa8_0242ac120002row11_col0\" class=\"data row11 col0\" >i94visa</td> \n",
       "        <td id=\"T_b5a993de_98f9_11ea_baa8_0242ac120002row11_col1\" class=\"data row11 col1\" >Visa codes collapsed into three categories {1 = Business, 2 = Pleasure, 3 = Student}</td> \n",
       "    </tr>    <tr> \n",
       "        <td id=\"T_b5a993de_98f9_11ea_baa8_0242ac120002row12_col0\" class=\"data row12 col0\" >count</td> \n",
       "        <td id=\"T_b5a993de_98f9_11ea_baa8_0242ac120002row12_col1\" class=\"data row12 col1\" >Used for summary statistics</td> \n",
       "    </tr>    <tr> \n",
       "        <td id=\"T_b5a993de_98f9_11ea_baa8_0242ac120002row13_col0\" class=\"data row13 col0\" >matflag</td> \n",
       "        <td id=\"T_b5a993de_98f9_11ea_baa8_0242ac120002row13_col1\" class=\"data row13 col1\" >Match flag</td> \n",
       "    </tr>    <tr> \n",
       "        <td id=\"T_b5a993de_98f9_11ea_baa8_0242ac120002row14_col0\" class=\"data row14 col0\" >biryear</td> \n",
       "        <td id=\"T_b5a993de_98f9_11ea_baa8_0242ac120002row14_col1\" class=\"data row14 col1\" >4 digit year of birth</td> \n",
       "    </tr>    <tr> \n",
       "        <td id=\"T_b5a993de_98f9_11ea_baa8_0242ac120002row15_col0\" class=\"data row15 col0\" >gender</td> \n",
       "        <td id=\"T_b5a993de_98f9_11ea_baa8_0242ac120002row15_col1\" class=\"data row15 col1\" >Gender</td> \n",
       "    </tr>    <tr> \n",
       "        <td id=\"T_b5a993de_98f9_11ea_baa8_0242ac120002row16_col0\" class=\"data row16 col0\" >insnum</td> \n",
       "        <td id=\"T_b5a993de_98f9_11ea_baa8_0242ac120002row16_col1\" class=\"data row16 col1\" >INS number</td> \n",
       "    </tr>    <tr> \n",
       "        <td id=\"T_b5a993de_98f9_11ea_baa8_0242ac120002row17_col0\" class=\"data row17 col0\" >airline</td> \n",
       "        <td id=\"T_b5a993de_98f9_11ea_baa8_0242ac120002row17_col1\" class=\"data row17 col1\" >Airline used to arrive in U.S.</td> \n",
       "    </tr>    <tr> \n",
       "        <td id=\"T_b5a993de_98f9_11ea_baa8_0242ac120002row18_col0\" class=\"data row18 col0\" >admnum</td> \n",
       "        <td id=\"T_b5a993de_98f9_11ea_baa8_0242ac120002row18_col1\" class=\"data row18 col1\" >Admission number, should be unique and not nullable</td> \n",
       "    </tr>    <tr> \n",
       "        <td id=\"T_b5a993de_98f9_11ea_baa8_0242ac120002row19_col0\" class=\"data row19 col0\" >fltno</td> \n",
       "        <td id=\"T_b5a993de_98f9_11ea_baa8_0242ac120002row19_col1\" class=\"data row19 col1\" >Flight number of Airline used to arrive in U.S.</td> \n",
       "    </tr>    <tr> \n",
       "        <td id=\"T_b5a993de_98f9_11ea_baa8_0242ac120002row20_col0\" class=\"data row20 col0\" >visatype</td> \n",
       "        <td id=\"T_b5a993de_98f9_11ea_baa8_0242ac120002row20_col1\" class=\"data row20 col1\" >Class of admission legally admitting the non-immigrant to temporarily stay in U.S.</td> \n",
       "    </tr>    <tr> \n",
       "        <td id=\"T_b5a993de_98f9_11ea_baa8_0242ac120002row21_col0\" class=\"data row21 col0\" >days_stay</td> \n",
       "        <td id=\"T_b5a993de_98f9_11ea_baa8_0242ac120002row21_col1\" class=\"data row21 col1\" >Days stay</td> \n",
       "    </tr></tbody> \n",
       "</table> "
      ],
      "text/plain": [
       "<pandas.io.formats.style.Styler at 0x7f988f300c88>"
      ]
     },
     "execution_count": 34,
     "metadata": {},
     "output_type": "execute_result"
    }
   ],
   "source": [
    "# create data dictionary df\n",
    "dic_I94 = {\n",
    "    'COLUMN NAME': df_imigration_i94.columns, \n",
    "    'DESCRIPTION': [\n",
    "        'Uniquely identify one record in the dataset',\n",
    "        '4 digit year',\n",
    "        'Numeric month',\n",
    "        '3 digit code of source city for immigration - born country',\n",
    "        '3 digit code of source country for immigration - residence country',\n",
    "        'Port addmitted through',\n",
    "        'Arrival date in the USA',\n",
    "        'Mode of transportation {1 = Air, 2 = Sea, 3 = Land, 9 = \"Not reported\"}',\n",
    "        'State of arrival',\n",
    "        'Departure date',\n",
    "        'Age of Respondent in Years',\n",
    "        'Visa codes collapsed into three categories {1 = Business, 2 = Pleasure, 3 = Student}',\n",
    "        'Used for summary statistics',\n",
    "        'Match flag',\n",
    "        '4 digit year of birth',\n",
    "        'Gender',\n",
    "        'INS number',\n",
    "        'Airline used to arrive in U.S.',\n",
    "        'Admission number, should be unique and not nullable',\n",
    "        'Flight number of Airline used to arrive in U.S.',\n",
    "        'Class of admission legally admitting the non-immigrant to temporarily stay in U.S.',\n",
    "        'Days stay'\n",
    "    ]\n",
    "}\n",
    "dfI94_description = pd.DataFrame(data=dic_I94)\n",
    "dfI94_description.style.hide_index()"
   ]
  },
  {
   "cell_type": "markdown",
   "metadata": {
    "editable": true
   },
   "source": [
    "#### Table Dimension 'airports'"
   ]
  },
  {
   "cell_type": "code",
   "execution_count": 35,
   "metadata": {
    "editable": true
   },
   "outputs": [
    {
     "data": {
      "text/html": [
       "<style  type=\"text/css\" >\n",
       "</style>  \n",
       "<table id=\"T_b5aeb76a_98f9_11ea_baa8_0242ac120002\" > \n",
       "<thead>    <tr> \n",
       "        <th class=\"col_heading level0 col0\" >COLUMN NAME</th> \n",
       "        <th class=\"col_heading level0 col1\" >DESCRIPTION</th> \n",
       "    </tr></thead> \n",
       "<tbody>    <tr> \n",
       "        <td id=\"T_b5aeb76a_98f9_11ea_baa8_0242ac120002row0_col0\" class=\"data row0 col0\" >ident</td> \n",
       "        <td id=\"T_b5aeb76a_98f9_11ea_baa8_0242ac120002row0_col1\" class=\"data row0 col1\" >Unique identifier</td> \n",
       "    </tr>    <tr> \n",
       "        <td id=\"T_b5aeb76a_98f9_11ea_baa8_0242ac120002row1_col0\" class=\"data row1 col0\" >type</td> \n",
       "        <td id=\"T_b5aeb76a_98f9_11ea_baa8_0242ac120002row1_col1\" class=\"data row1 col1\" >Type of the airport</td> \n",
       "    </tr>    <tr> \n",
       "        <td id=\"T_b5aeb76a_98f9_11ea_baa8_0242ac120002row2_col0\" class=\"data row2 col0\" >name</td> \n",
       "        <td id=\"T_b5aeb76a_98f9_11ea_baa8_0242ac120002row2_col1\" class=\"data row2 col1\" >Airport Name</td> \n",
       "    </tr>    <tr> \n",
       "        <td id=\"T_b5aeb76a_98f9_11ea_baa8_0242ac120002row3_col0\" class=\"data row3 col0\" >continent</td> \n",
       "        <td id=\"T_b5aeb76a_98f9_11ea_baa8_0242ac120002row3_col1\" class=\"data row3 col1\" >Continent</td> \n",
       "    </tr>    <tr> \n",
       "        <td id=\"T_b5aeb76a_98f9_11ea_baa8_0242ac120002row4_col0\" class=\"data row4 col0\" >iso_country</td> \n",
       "        <td id=\"T_b5aeb76a_98f9_11ea_baa8_0242ac120002row4_col1\" class=\"data row4 col1\" >ISO code of the country of the airport</td> \n",
       "    </tr>    <tr> \n",
       "        <td id=\"T_b5aeb76a_98f9_11ea_baa8_0242ac120002row5_col0\" class=\"data row5 col0\" >local_code</td> \n",
       "        <td id=\"T_b5aeb76a_98f9_11ea_baa8_0242ac120002row5_col1\" class=\"data row5 col1\" >Local code of the airport</td> \n",
       "    </tr>    <tr> \n",
       "        <td id=\"T_b5aeb76a_98f9_11ea_baa8_0242ac120002row6_col0\" class=\"data row6 col0\" >latitude</td> \n",
       "        <td id=\"T_b5aeb76a_98f9_11ea_baa8_0242ac120002row6_col1\" class=\"data row6 col1\" >Coordinates latitude of the airport</td> \n",
       "    </tr>    <tr> \n",
       "        <td id=\"T_b5aeb76a_98f9_11ea_baa8_0242ac120002row7_col0\" class=\"data row7 col0\" >longitude</td> \n",
       "        <td id=\"T_b5aeb76a_98f9_11ea_baa8_0242ac120002row7_col1\" class=\"data row7 col1\" >Coordinates longitude of the airport</td> \n",
       "    </tr>    <tr> \n",
       "        <td id=\"T_b5aeb76a_98f9_11ea_baa8_0242ac120002row8_col0\" class=\"data row8 col0\" >state</td> \n",
       "        <td id=\"T_b5aeb76a_98f9_11ea_baa8_0242ac120002row8_col1\" class=\"data row8 col1\" >State of the airport</td> \n",
       "    </tr></tbody> \n",
       "</table> "
      ],
      "text/plain": [
       "<pandas.io.formats.style.Styler at 0x7f987fce40b8>"
      ]
     },
     "execution_count": 35,
     "metadata": {},
     "output_type": "execute_result"
    }
   ],
   "source": [
    "# create data dictionary airport\n",
    "dic_airport = {\n",
    "    'COLUMN NAME': airport.columns, \n",
    "    'DESCRIPTION': [\n",
    "        'Unique identifier', \n",
    "        'Type of the airport', \n",
    "        'Airport Name', \n",
    "        'Continent', \n",
    "        'ISO code of the country of the airport',\n",
    "        'Local code of the airport', \n",
    "        'Coordinates latitude of the airport',\n",
    "        'Coordinates longitude of the airport',\n",
    "        'State of the airport'\n",
    "    ]\n",
    "}\n",
    "airport_description = pd.DataFrame(data=dic_airport)\n",
    "airport_description.style.hide_index()"
   ]
  },
  {
   "cell_type": "markdown",
   "metadata": {
    "editable": true
   },
   "source": [
    "#### Table Dimension 'us_cities_demographics'"
   ]
  },
  {
   "cell_type": "code",
   "execution_count": 36,
   "metadata": {
    "editable": true
   },
   "outputs": [
    {
     "data": {
      "text/html": [
       "<style  type=\"text/css\" >\n",
       "</style>  \n",
       "<table id=\"T_b5b25a28_98f9_11ea_baa8_0242ac120002\" > \n",
       "<thead>    <tr> \n",
       "        <th class=\"col_heading level0 col0\" >COLUMN NAME</th> \n",
       "        <th class=\"col_heading level0 col1\" >DESCRIPTION</th> \n",
       "    </tr></thead> \n",
       "<tbody>    <tr> \n",
       "        <td id=\"T_b5b25a28_98f9_11ea_baa8_0242ac120002row0_col0\" class=\"data row0 col0\" >city</td> \n",
       "        <td id=\"T_b5b25a28_98f9_11ea_baa8_0242ac120002row0_col1\" class=\"data row0 col1\" >Name of the city</td> \n",
       "    </tr>    <tr> \n",
       "        <td id=\"T_b5b25a28_98f9_11ea_baa8_0242ac120002row1_col0\" class=\"data row1 col0\" >state</td> \n",
       "        <td id=\"T_b5b25a28_98f9_11ea_baa8_0242ac120002row1_col1\" class=\"data row1 col1\" >US state of the city</td> \n",
       "    </tr>    <tr> \n",
       "        <td id=\"T_b5b25a28_98f9_11ea_baa8_0242ac120002row2_col0\" class=\"data row2 col0\" >state_code</td> \n",
       "        <td id=\"T_b5b25a28_98f9_11ea_baa8_0242ac120002row2_col1\" class=\"data row2 col1\" >Code of the state of the city</td> \n",
       "    </tr>    <tr> \n",
       "        <td id=\"T_b5b25a28_98f9_11ea_baa8_0242ac120002row3_col0\" class=\"data row3 col0\" >foreign_born</td> \n",
       "        <td id=\"T_b5b25a28_98f9_11ea_baa8_0242ac120002row3_col1\" class=\"data row3 col1\" >Number of residents of the city that were not born in the city</td> \n",
       "    </tr>    <tr> \n",
       "        <td id=\"T_b5b25a28_98f9_11ea_baa8_0242ac120002row4_col0\" class=\"data row4 col0\" >male_population</td> \n",
       "        <td id=\"T_b5b25a28_98f9_11ea_baa8_0242ac120002row4_col1\" class=\"data row4 col1\" >Number of the male population</td> \n",
       "    </tr>    <tr> \n",
       "        <td id=\"T_b5b25a28_98f9_11ea_baa8_0242ac120002row5_col0\" class=\"data row5 col0\" >average_household_size</td> \n",
       "        <td id=\"T_b5b25a28_98f9_11ea_baa8_0242ac120002row5_col1\" class=\"data row5 col1\" >Average size of the houses in the city</td> \n",
       "    </tr>    <tr> \n",
       "        <td id=\"T_b5b25a28_98f9_11ea_baa8_0242ac120002row6_col0\" class=\"data row6 col0\" >total_population</td> \n",
       "        <td id=\"T_b5b25a28_98f9_11ea_baa8_0242ac120002row6_col1\" class=\"data row6 col1\" >Number of the total population</td> \n",
       "    </tr>    <tr> \n",
       "        <td id=\"T_b5b25a28_98f9_11ea_baa8_0242ac120002row7_col0\" class=\"data row7 col0\" >female_population</td> \n",
       "        <td id=\"T_b5b25a28_98f9_11ea_baa8_0242ac120002row7_col1\" class=\"data row7 col1\" >Number of the female population</td> \n",
       "    </tr>    <tr> \n",
       "        <td id=\"T_b5b25a28_98f9_11ea_baa8_0242ac120002row8_col0\" class=\"data row8 col0\" >media_age</td> \n",
       "        <td id=\"T_b5b25a28_98f9_11ea_baa8_0242ac120002row8_col1\" class=\"data row8 col1\" >The median of the age of the population</td> \n",
       "    </tr>    <tr> \n",
       "        <td id=\"T_b5b25a28_98f9_11ea_baa8_0242ac120002row9_col0\" class=\"data row9 col0\" >number_of_veterans</td> \n",
       "        <td id=\"T_b5b25a28_98f9_11ea_baa8_0242ac120002row9_col1\" class=\"data row9 col1\" >Number of veterans living in the city</td> \n",
       "    </tr>    <tr> \n",
       "        <td id=\"T_b5b25a28_98f9_11ea_baa8_0242ac120002row10_col0\" class=\"data row10 col0\" >american_indian_and_alaska_native</td> \n",
       "        <td id=\"T_b5b25a28_98f9_11ea_baa8_0242ac120002row10_col1\" class=\"data row10 col1\" >Number of American Indian and Alaska Native</td> \n",
       "    </tr>    <tr> \n",
       "        <td id=\"T_b5b25a28_98f9_11ea_baa8_0242ac120002row11_col0\" class=\"data row11 col0\" >asian</td> \n",
       "        <td id=\"T_b5b25a28_98f9_11ea_baa8_0242ac120002row11_col1\" class=\"data row11 col1\" >Number of Asian</td> \n",
       "    </tr>    <tr> \n",
       "        <td id=\"T_b5b25a28_98f9_11ea_baa8_0242ac120002row12_col0\" class=\"data row12 col0\" >black_or_african_american</td> \n",
       "        <td id=\"T_b5b25a28_98f9_11ea_baa8_0242ac120002row12_col1\" class=\"data row12 col1\" >Number of Black or African American</td> \n",
       "    </tr>    <tr> \n",
       "        <td id=\"T_b5b25a28_98f9_11ea_baa8_0242ac120002row13_col0\" class=\"data row13 col0\" >hispanic_or_latino</td> \n",
       "        <td id=\"T_b5b25a28_98f9_11ea_baa8_0242ac120002row13_col1\" class=\"data row13 col1\" >Number of Hispanic or Latino</td> \n",
       "    </tr>    <tr> \n",
       "        <td id=\"T_b5b25a28_98f9_11ea_baa8_0242ac120002row14_col0\" class=\"data row14 col0\" >white</td> \n",
       "        <td id=\"T_b5b25a28_98f9_11ea_baa8_0242ac120002row14_col1\" class=\"data row14 col1\" >Number of White</td> \n",
       "    </tr></tbody> \n",
       "</table> "
      ],
      "text/plain": [
       "<pandas.io.formats.style.Styler at 0x7f987fce5c50>"
      ]
     },
     "execution_count": 36,
     "metadata": {},
     "output_type": "execute_result"
    }
   ],
   "source": [
    "# create data dictionary cities demographics\n",
    "dic_cities_demographics = {\n",
    "    'COLUMN NAME': df_us_cities_demographics.columns, \n",
    "    'DESCRIPTION': [\n",
    "        'Name of the city', \n",
    "        'US state of the city', \n",
    "        'Code of the state of the city', \n",
    "        'Number of residents of the city that were not born in the city', \n",
    "        'Number of the male population',\n",
    "        'Average size of the houses in the city',\n",
    "        'Number of the total population',\n",
    "        'Number of the female population', \n",
    "        'The median of the age of the population',\n",
    "        'Number of veterans living in the city', \n",
    "        'Number of American Indian and Alaska Native', \n",
    "        'Number of Asian', \n",
    "        'Number of Black or African American', \n",
    "        'Number of Hispanic or Latino', \n",
    "        'Number of White'\n",
    "    ]\n",
    "}\n",
    "us_cities_demographics_description = pd.DataFrame(data=dic_cities_demographics)\n",
    "us_cities_demographics_description.style.hide_index()"
   ]
  },
  {
   "cell_type": "markdown",
   "metadata": {
    "editable": true
   },
   "source": [
    "#### Table Dimension 'i94cit_res'"
   ]
  },
  {
   "cell_type": "code",
   "execution_count": 37,
   "metadata": {
    "editable": true
   },
   "outputs": [
    {
     "data": {
      "text/html": [
       "<style  type=\"text/css\" >\n",
       "</style>  \n",
       "<table id=\"T_b5b598aa_98f9_11ea_baa8_0242ac120002\" > \n",
       "<thead>    <tr> \n",
       "        <th class=\"col_heading level0 col0\" >COLUMN NAME</th> \n",
       "        <th class=\"col_heading level0 col1\" >DESCRIPTION</th> \n",
       "    </tr></thead> \n",
       "<tbody>    <tr> \n",
       "        <td id=\"T_b5b598aa_98f9_11ea_baa8_0242ac120002row0_col0\" class=\"data row0 col0\" >i94cit_res_id</td> \n",
       "        <td id=\"T_b5b598aa_98f9_11ea_baa8_0242ac120002row0_col1\" class=\"data row0 col1\" >Uniquely identify code country</td> \n",
       "    </tr>    <tr> \n",
       "        <td id=\"T_b5b598aa_98f9_11ea_baa8_0242ac120002row1_col0\" class=\"data row1 col0\" >country</td> \n",
       "        <td id=\"T_b5b598aa_98f9_11ea_baa8_0242ac120002row1_col1\" class=\"data row1 col1\" >Name country</td> \n",
       "    </tr></tbody> \n",
       "</table> "
      ],
      "text/plain": [
       "<pandas.io.formats.style.Styler at 0x7f987fce4550>"
      ]
     },
     "execution_count": 37,
     "metadata": {},
     "output_type": "execute_result"
    }
   ],
   "source": [
    "# create data dictionary cit & res\n",
    "dic_cit_res = {\n",
    "    'COLUMN NAME': df_i94cit_i94res.columns, \n",
    "    'DESCRIPTION': [\n",
    "        'Uniquely identify code country', \n",
    "        'Name country'\n",
    "    ]\n",
    "}\n",
    "cit_res_description = pd.DataFrame(data=dic_cit_res)\n",
    "cit_res_description.style.hide_index()"
   ]
  },
  {
   "cell_type": "markdown",
   "metadata": {
    "editable": true
   },
   "source": [
    "#### Table Dimension 'i94ports'"
   ]
  },
  {
   "cell_type": "code",
   "execution_count": 38,
   "metadata": {
    "editable": true
   },
   "outputs": [
    {
     "data": {
      "text/html": [
       "<style  type=\"text/css\" >\n",
       "</style>  \n",
       "<table id=\"T_b5b886a0_98f9_11ea_baa8_0242ac120002\" > \n",
       "<thead>    <tr> \n",
       "        <th class=\"col_heading level0 col0\" >COLUMN NAME</th> \n",
       "        <th class=\"col_heading level0 col1\" >DESCRIPTION</th> \n",
       "    </tr></thead> \n",
       "<tbody>    <tr> \n",
       "        <td id=\"T_b5b886a0_98f9_11ea_baa8_0242ac120002row0_col0\" class=\"data row0 col0\" >code</td> \n",
       "        <td id=\"T_b5b886a0_98f9_11ea_baa8_0242ac120002row0_col1\" class=\"data row0 col1\" >Uniquely identify code city</td> \n",
       "    </tr>    <tr> \n",
       "        <td id=\"T_b5b886a0_98f9_11ea_baa8_0242ac120002row1_col0\" class=\"data row1 col0\" >city</td> \n",
       "        <td id=\"T_b5b886a0_98f9_11ea_baa8_0242ac120002row1_col1\" class=\"data row1 col1\" >Name city</td> \n",
       "    </tr>    <tr> \n",
       "        <td id=\"T_b5b886a0_98f9_11ea_baa8_0242ac120002row2_col0\" class=\"data row2 col0\" >state</td> \n",
       "        <td id=\"T_b5b886a0_98f9_11ea_baa8_0242ac120002row2_col1\" class=\"data row2 col1\" >City abbreviation</td> \n",
       "    </tr></tbody> \n",
       "</table> "
      ],
      "text/plain": [
       "<pandas.io.formats.style.Styler at 0x7f987fce5940>"
      ]
     },
     "execution_count": 38,
     "metadata": {},
     "output_type": "execute_result"
    }
   ],
   "source": [
    "# create data dictionary port\n",
    "dic_i94port = {\n",
    "    'COLUMN NAME': df_i94port.columns, \n",
    "    'DESCRIPTION': [\n",
    "        'Uniquely identify code city', \n",
    "        'Name city',\n",
    "        'City abbreviation'\n",
    "    ]\n",
    "}\n",
    "i94port_description = pd.DataFrame(data=dic_i94port)\n",
    "i94port_description.style.hide_index()"
   ]
  },
  {
   "cell_type": "markdown",
   "metadata": {
    "editable": true
   },
   "source": [
    "#### Table Dimension 'i94modes'"
   ]
  },
  {
   "cell_type": "code",
   "execution_count": 39,
   "metadata": {
    "editable": true
   },
   "outputs": [
    {
     "data": {
      "text/html": [
       "<style  type=\"text/css\" >\n",
       "</style>  \n",
       "<table id=\"T_b5bb6780_98f9_11ea_baa8_0242ac120002\" > \n",
       "<thead>    <tr> \n",
       "        <th class=\"col_heading level0 col0\" >COLUMN NAME</th> \n",
       "        <th class=\"col_heading level0 col1\" >DESCRIPTION</th> \n",
       "    </tr></thead> \n",
       "<tbody>    <tr> \n",
       "        <td id=\"T_b5bb6780_98f9_11ea_baa8_0242ac120002row0_col0\" class=\"data row0 col0\" >code</td> \n",
       "        <td id=\"T_b5bb6780_98f9_11ea_baa8_0242ac120002row0_col1\" class=\"data row0 col1\" >Uniquely identify code mode</td> \n",
       "    </tr>    <tr> \n",
       "        <td id=\"T_b5bb6780_98f9_11ea_baa8_0242ac120002row1_col0\" class=\"data row1 col0\" >mode</td> \n",
       "        <td id=\"T_b5bb6780_98f9_11ea_baa8_0242ac120002row1_col1\" class=\"data row1 col1\" >Description</td> \n",
       "    </tr></tbody> \n",
       "</table> "
      ],
      "text/plain": [
       "<pandas.io.formats.style.Styler at 0x7f987fce4320>"
      ]
     },
     "execution_count": 39,
     "metadata": {},
     "output_type": "execute_result"
    }
   ],
   "source": [
    "# create data dictionary mode\n",
    "dic_i94mode = {\n",
    "    'COLUMN NAME': df_i94mode.columns, \n",
    "    'DESCRIPTION': [\n",
    "        'Uniquely identify code mode', \n",
    "        'Description'\n",
    "    ]\n",
    "}\n",
    "i94mode_description = pd.DataFrame(data=dic_i94mode)\n",
    "i94mode_description.style.hide_index()"
   ]
  },
  {
   "cell_type": "markdown",
   "metadata": {
    "editable": true
   },
   "source": [
    "#### Table Dimension 'i94addrs'"
   ]
  },
  {
   "cell_type": "code",
   "execution_count": 40,
   "metadata": {
    "editable": true
   },
   "outputs": [
    {
     "data": {
      "text/html": [
       "<style  type=\"text/css\" >\n",
       "</style>  \n",
       "<table id=\"T_b5be5062_98f9_11ea_baa8_0242ac120002\" > \n",
       "<thead>    <tr> \n",
       "        <th class=\"col_heading level0 col0\" >COLUMN NAME</th> \n",
       "        <th class=\"col_heading level0 col1\" >DESCRIPTION</th> \n",
       "    </tr></thead> \n",
       "<tbody>    <tr> \n",
       "        <td id=\"T_b5be5062_98f9_11ea_baa8_0242ac120002row0_col0\" class=\"data row0 col0\" >i94addr_id</td> \n",
       "        <td id=\"T_b5be5062_98f9_11ea_baa8_0242ac120002row0_col1\" class=\"data row0 col1\" >Uniquely identify addr</td> \n",
       "    </tr>    <tr> \n",
       "        <td id=\"T_b5be5062_98f9_11ea_baa8_0242ac120002row1_col0\" class=\"data row1 col0\" >state</td> \n",
       "        <td id=\"T_b5be5062_98f9_11ea_baa8_0242ac120002row1_col1\" class=\"data row1 col1\" >Description</td> \n",
       "    </tr></tbody> \n",
       "</table> "
      ],
      "text/plain": [
       "<pandas.io.formats.style.Styler at 0x7f987fce9f60>"
      ]
     },
     "execution_count": 40,
     "metadata": {},
     "output_type": "execute_result"
    }
   ],
   "source": [
    "# create data dictionary addr\n",
    "dic_i94addr = {\n",
    "    'COLUMN NAME': df_i94addr.columns, \n",
    "    'DESCRIPTION': [\n",
    "        'Uniquely identify addr', \n",
    "        'Description'\n",
    "    ]\n",
    "}\n",
    "i94addr_description = pd.DataFrame(data=dic_i94addr)\n",
    "i94addr_description.style.hide_index()"
   ]
  },
  {
   "cell_type": "markdown",
   "metadata": {
    "editable": true
   },
   "source": [
    "#### Table Dimension 'i94visas'"
   ]
  },
  {
   "cell_type": "code",
   "execution_count": 41,
   "metadata": {
    "editable": true
   },
   "outputs": [
    {
     "data": {
      "text/html": [
       "<style  type=\"text/css\" >\n",
       "</style>  \n",
       "<table id=\"T_b5c120b2_98f9_11ea_baa8_0242ac120002\" > \n",
       "<thead>    <tr> \n",
       "        <th class=\"col_heading level0 col0\" >COLUMN NAME</th> \n",
       "        <th class=\"col_heading level0 col1\" >DESCRIPTION</th> \n",
       "    </tr></thead> \n",
       "<tbody>    <tr> \n",
       "        <td id=\"T_b5c120b2_98f9_11ea_baa8_0242ac120002row0_col0\" class=\"data row0 col0\" >code</td> \n",
       "        <td id=\"T_b5c120b2_98f9_11ea_baa8_0242ac120002row0_col1\" class=\"data row0 col1\" >Uniquely identify code visa</td> \n",
       "    </tr>    <tr> \n",
       "        <td id=\"T_b5c120b2_98f9_11ea_baa8_0242ac120002row1_col0\" class=\"data row1 col0\" >category</td> \n",
       "        <td id=\"T_b5c120b2_98f9_11ea_baa8_0242ac120002row1_col1\" class=\"data row1 col1\" >Description</td> \n",
       "    </tr></tbody> \n",
       "</table> "
      ],
      "text/plain": [
       "<pandas.io.formats.style.Styler at 0x7f987fce97b8>"
      ]
     },
     "execution_count": 41,
     "metadata": {},
     "output_type": "execute_result"
    }
   ],
   "source": [
    "# create data dictionary visa\n",
    "dic_i94visa = {\n",
    "    'COLUMN NAME': df_i94visa.columns, \n",
    "    'DESCRIPTION': [\n",
    "        'Uniquely identify code visa', \n",
    "        'Description'\n",
    "    ]\n",
    "}\n",
    "i94visa_description = pd.DataFrame(data=dic_i94visa)\n",
    "i94visa_description.style.hide_index()"
   ]
  },
  {
   "cell_type": "markdown",
   "metadata": {
    "editable": true
   },
   "source": [
    "### Step 5: Complete Project Write Up"
   ]
  },
  {
   "cell_type": "markdown",
   "metadata": {
    "editable": true
   },
   "source": [
    "#### Clearly state the rationale for the choice of tools and technologies for the project.\n",
    "\n",
    "We use technologies and resources available on AWS so that the services used are priced according to use, making it possible to start a small project the way it increases this can be scaled.\n",
    "\n",
    "Spark - We provide all the necessary resources for working with datasets.\n",
    "\n",
    "Redshift - column-oriented Data Warehouse that can be easily scaled.\n",
    "\n",
    "S3 - Easy to use, high availability with security and performance. Use as an intermediate area to store or share data in files before uploading the data to the database."
   ]
  },
  {
   "cell_type": "markdown",
   "metadata": {
    "editable": true
   },
   "source": [
    "#### Propose how often the data should be updated and why.\n",
    "\n",
    "Suggestion would be to update it per month because the data received are separated by month"
   ]
  },
  {
   "cell_type": "markdown",
   "metadata": {
    "editable": true
   },
   "source": [
    "* Write a description of how you would approach the problem differently under the following scenarios:\n",
    " * The data was increased by 100x.\n",
    "   - We will configure Spark to enable parallelism and switch to using the EMR feature on AWS, so we can use a cluster manager and increase the number of nodes depending on the needs.\n",
    " * The data populates a dashboard that must be updated on a daily basis by 7am every day.\n",
    "   - We will automate the pipeline with Airflow so that it runs every day at night\n",
    " * The database needed to be accessed by 100+ people.\n",
    "   - Add more nodes to the existing Redshift cluster if performance of the queries is slow when more users are accessing simultaneously."
   ]
  },
  {
   "cell_type": "markdown",
   "metadata": {
    "editable": true
   },
   "source": [
    "## Delete Redshift"
   ]
  },
  {
   "cell_type": "code",
   "execution_count": 43,
   "metadata": {
    "editable": true
   },
   "outputs": [
    {
     "name": "stdout",
     "output_type": "stream",
     "text": [
      "## Remove Client Redshift and IAM\n",
      "## Remove Redshift Cluster capstoneCluster\n",
      "## Remove Resource Cluster capstoneCluster\n",
      "## Clean bucket data-engineer-capstone\n",
      "## Remove bucket data-engineer-capstone\n",
      "## Bucket data-engineer-capstone delete !\n",
      "## Remove data config\n"
     ]
    }
   ],
   "source": [
    "# Uncomment line below to delete Redshift Cluster on AWS\n",
    "#!python remove_redshift.py"
   ]
  },
  {
   "cell_type": "code",
   "execution_count": null,
   "metadata": {
    "editable": true
   },
   "outputs": [],
   "source": []
  }
 ],
 "metadata": {
  "kernelspec": {
   "display_name": "Python 3",
   "language": "python",
   "name": "python3"
  },
  "language_info": {
   "codemirror_mode": {
    "name": "ipython",
    "version": 3
   },
   "file_extension": ".py",
   "mimetype": "text/x-python",
   "name": "python",
   "nbconvert_exporter": "python",
   "pygments_lexer": "ipython3",
   "version": "3.6.3"
  }
 },
 "nbformat": 4,
 "nbformat_minor": 4
}
